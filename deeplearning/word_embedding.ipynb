{
 "cells": [
  {
   "cell_type": "code",
   "execution_count": 1,
   "metadata": {},
   "outputs": [
    {
     "name": "stdout",
     "output_type": "stream",
     "text": [
      "WARNING:tensorflow:From c:\\Users\\ronil\\AppData\\Local\\Programs\\Python\\Python310\\lib\\site-packages\\keras\\src\\losses.py:2976: The name tf.losses.sparse_softmax_cross_entropy is deprecated. Please use tf.compat.v1.losses.sparse_softmax_cross_entropy instead.\n",
      "\n"
     ]
    }
   ],
   "source": [
    "import numpy as np\n",
    "from tensorflow.keras.preprocessing.text import one_hot\n",
    "from tensorflow.keras.preprocessing.sequence import pad_sequences\n",
    "from tensorflow.keras.models import Sequential\n",
    "from tensorflow.keras.layers import Dense\n",
    "from tensorflow.keras.layers import Flatten\n",
    "from tensorflow.keras.layers import Embedding\n",
    "\n",
    "reviews = ['nice food',\n",
    "        'amazing restaurant',\n",
    "        'too good',\n",
    "        'just loved it!',\n",
    "        'will go again',\n",
    "        'horrible food',\n",
    "        'never go there',\n",
    "        'poor service',\n",
    "        'poor quality',\n",
    "        'needs improvement']\n",
    "\n",
    "sentiment = np.array([1,1,1,1,1,0,0,0,0,0])"
   ]
  },
  {
   "cell_type": "code",
   "execution_count": 8,
   "metadata": {},
   "outputs": [
    {
     "data": {
      "text/plain": [
       "[17, 14]"
      ]
     },
     "execution_count": 8,
     "metadata": {},
     "output_type": "execute_result"
    }
   ],
   "source": [
    "one_hot(\"amazing restaurant\", 30)"
   ]
  },
  {
   "cell_type": "code",
   "execution_count": 7,
   "metadata": {},
   "outputs": [
    {
     "data": {
      "text/plain": [
       "[[23, 13],\n",
       " [17, 14],\n",
       " [6, 5],\n",
       " [18, 7, 20],\n",
       " [8, 7, 22],\n",
       " [26, 13],\n",
       " [27, 7, 5],\n",
       " [19, 9],\n",
       " [19, 14],\n",
       " [25, 10]]"
      ]
     },
     "execution_count": 7,
     "metadata": {},
     "output_type": "execute_result"
    }
   ],
   "source": [
    "vocab_size = 30\n",
    "encoded_reviews = [one_hot(d, vocab_size) for d in reviews]\n",
    "encoded_reviews"
   ]
  },
  {
   "cell_type": "code",
   "execution_count": 9,
   "metadata": {},
   "outputs": [
    {
     "name": "stdout",
     "output_type": "stream",
     "text": [
      "[[23 13  0]\n",
      " [17 14  0]\n",
      " [ 6  5  0]\n",
      " [18  7 20]\n",
      " [ 8  7 22]\n",
      " [26 13  0]\n",
      " [27  7  5]\n",
      " [19  9  0]\n",
      " [19 14  0]\n",
      " [25 10  0]]\n"
     ]
    }
   ],
   "source": [
    "max_length = 3\n",
    "padded_reviews = pad_sequences(encoded_reviews, maxlen=max_length, padding='post')\n",
    "print(padded_reviews)\n",
    "        "
   ]
  },
  {
   "cell_type": "code",
   "execution_count": 12,
   "metadata": {},
   "outputs": [],
   "source": [
    "embeded_vector_size = 4\n",
    "model = Sequential()\n",
    "model.add(Embedding(vocab_size, embeded_vector_size, input_length = 3, name = \"embedding\"))\n",
    "model.add(Flatten())\n",
    "model.add(Dense(1, activation = \"sigmoid\"))\n",
    "X = padded_reviews\n",
    "y = sentiment\n",
    "          "
   ]
  },
  {
   "cell_type": "code",
   "execution_count": 14,
   "metadata": {},
   "outputs": [
    {
     "name": "stdout",
     "output_type": "stream",
     "text": [
      "Model: \"sequential_1\"\n",
      "_________________________________________________________________\n",
      " Layer (type)                Output Shape              Param #   \n",
      "=================================================================\n",
      " embedding (Embedding)       (None, 3, 4)              120       \n",
      "                                                                 \n",
      " flatten_1 (Flatten)         (None, 12)                0         \n",
      "                                                                 \n",
      " dense_1 (Dense)             (None, 1)                 13        \n",
      "                                                                 \n",
      "=================================================================\n",
      "Total params: 133 (532.00 Byte)\n",
      "Trainable params: 133 (532.00 Byte)\n",
      "Non-trainable params: 0 (0.00 Byte)\n",
      "_________________________________________________________________\n",
      "None\n"
     ]
    }
   ],
   "source": [
    "model.compile(optimizer='adam', loss='binary_crossentropy', metrics=['accuracy'])\n",
    "print(model.summary())"
   ]
  },
  {
   "cell_type": "code",
   "execution_count": 15,
   "metadata": {},
   "outputs": [
    {
     "name": "stdout",
     "output_type": "stream",
     "text": [
      "WARNING:tensorflow:From c:\\Users\\ronil\\AppData\\Local\\Programs\\Python\\Python310\\lib\\site-packages\\keras\\src\\utils\\tf_utils.py:492: The name tf.ragged.RaggedTensorValue is deprecated. Please use tf.compat.v1.ragged.RaggedTensorValue instead.\n",
      "\n",
      "WARNING:tensorflow:From c:\\Users\\ronil\\AppData\\Local\\Programs\\Python\\Python310\\lib\\site-packages\\keras\\src\\engine\\base_layer_utils.py:384: The name tf.executing_eagerly_outside_functions is deprecated. Please use tf.compat.v1.executing_eagerly_outside_functions instead.\n",
      "\n"
     ]
    },
    {
     "data": {
      "text/plain": [
       "<keras.src.callbacks.History at 0x1667785b370>"
      ]
     },
     "execution_count": 15,
     "metadata": {},
     "output_type": "execute_result"
    }
   ],
   "source": [
    "model.fit(X, y, epochs=50, verbose=0)\n"
   ]
  },
  {
   "cell_type": "code",
   "execution_count": 16,
   "metadata": {},
   "outputs": [
    {
     "name": "stdout",
     "output_type": "stream",
     "text": [
      "1/1 [==============================] - 0s 120ms/step - loss: 0.6221 - accuracy: 1.0000\n"
     ]
    },
    {
     "data": {
      "text/plain": [
       "1.0"
      ]
     },
     "execution_count": 16,
     "metadata": {},
     "output_type": "execute_result"
    }
   ],
   "source": [
    "# evaluate the model\n",
    "loss, accuracy = model.evaluate(X, y)\n",
    "accuracy"
   ]
  },
  {
   "cell_type": "code",
   "execution_count": 17,
   "metadata": {},
   "outputs": [
    {
     "data": {
      "text/plain": [
       "array([[-0.01003522,  0.0462793 ,  0.03233439,  0.09932361],\n",
       "       [ 0.04504636,  0.03398771,  0.03220527,  0.02343429],\n",
       "       [ 0.03157893, -0.02362747,  0.02981606,  0.0076208 ],\n",
       "       [ 0.01032221,  0.02446551, -0.02938509,  0.03303737],\n",
       "       [ 0.04495415,  0.01275218, -0.01398367, -0.01156839],\n",
       "       [ 0.03687357,  0.04801068,  0.0737649 ,  0.0568392 ],\n",
       "       [ 0.08003313, -0.04929447, -0.0535208 ,  0.07870474],\n",
       "       [ 0.02708977,  0.00417285, -0.07721315,  0.00425503],\n",
       "       [ 0.05460323, -0.03648429, -0.07471078,  0.04514784],\n",
       "       [-0.01151734, -0.09844974,  0.093201  , -0.09360988],\n",
       "       [-0.00349281, -0.06434802,  0.05034897, -0.09899887],\n",
       "       [-0.03985297, -0.02993596,  0.00385876, -0.00603897],\n",
       "       [ 0.02940679,  0.02452045, -0.03735567,  0.03370029],\n",
       "       [ 0.06103832,  0.00618758, -0.07337412, -0.0044807 ],\n",
       "       [ 0.02114254,  0.00083054, -0.00807974,  0.06686252],\n",
       "       [-0.02591972, -0.01749884,  0.00955647, -0.02961886],\n",
       "       [-0.01631248,  0.04211769,  0.04361118,  0.00223581],\n",
       "       [ 0.04759227, -0.05977213, -0.09194759,  0.05807593],\n",
       "       [ 0.043996  , -0.0654786 , -0.06552868,  0.03837639],\n",
       "       [ 0.00012968,  0.04428102,  0.01879256, -0.0838392 ],\n",
       "       [ 0.04464943, -0.04884361, -0.08509722, -0.09284328],\n",
       "       [ 0.02844225,  0.00195631, -0.04943103, -0.01076577],\n",
       "       [-0.00425679, -0.08501021, -0.07429723, -0.0889556 ],\n",
       "       [ 0.03497972, -0.04942755, -0.06993451,  0.06586719],\n",
       "       [-0.01973755,  0.00197109,  0.04560462,  0.0402691 ],\n",
       "       [-0.01069411,  0.10428271,  0.02197749, -0.08658337],\n",
       "       [-0.00181275,  0.04804418,  0.02761788, -0.00299121],\n",
       "       [-0.07441207,  0.06069306,  0.01761734, -0.03552434],\n",
       "       [ 0.00989743, -0.04258209,  0.04134586, -0.02094505],\n",
       "       [-0.00407009, -0.01058533, -0.02191132, -0.00063802]],\n",
       "      dtype=float32)"
      ]
     },
     "execution_count": 17,
     "metadata": {},
     "output_type": "execute_result"
    }
   ],
   "source": [
    "model.get_layer('embedding').get_weights()[0]"
   ]
  }
 ],
 "metadata": {
  "kernelspec": {
   "display_name": "Python 3",
   "language": "python",
   "name": "python3"
  },
  "language_info": {
   "codemirror_mode": {
    "name": "ipython",
    "version": 3
   },
   "file_extension": ".py",
   "mimetype": "text/x-python",
   "name": "python",
   "nbconvert_exporter": "python",
   "pygments_lexer": "ipython3",
   "version": "3.10.2"
  }
 },
 "nbformat": 4,
 "nbformat_minor": 2
}
